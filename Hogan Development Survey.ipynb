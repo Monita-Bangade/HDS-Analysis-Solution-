{
 "cells": [
  {
   "cell_type": "code",
   "execution_count": 1,
   "id": "5fb953f8-1938-4395-a911-c55561898828",
   "metadata": {},
   "outputs": [],
   "source": [
    "import pandas as pd\n",
    "import matplotlib.pyplot as plt\n",
    "import seaborn as sns\n",
    "\n",
    "# For better chart display\n",
    "sns.set(style=\"whitegrid\")\n"
   ]
  },
  {
   "cell_type": "markdown",
   "id": "a214ecf9-3ab5-402b-a052-244417549263",
   "metadata": {},
   "source": [
    "I import pandas for data manipulation, and matplotlib & seaborn for visualization. These are standard tools for exploratory data analysis (EDA)."
   ]
  },
  {
   "cell_type": "code",
   "execution_count": 4,
   "id": "f9d16798-4106-4e6a-a89d-04b8867322bb",
   "metadata": {},
   "outputs": [
    {
     "data": {
      "text/html": [
       "<div>\n",
       "<style scoped>\n",
       "    .dataframe tbody tr th:only-of-type {\n",
       "        vertical-align: middle;\n",
       "    }\n",
       "\n",
       "    .dataframe tbody tr th {\n",
       "        vertical-align: top;\n",
       "    }\n",
       "\n",
       "    .dataframe thead th {\n",
       "        text-align: right;\n",
       "    }\n",
       "</style>\n",
       "<table border=\"1\" class=\"dataframe\">\n",
       "  <thead>\n",
       "    <tr style=\"text-align: right;\">\n",
       "      <th></th>\n",
       "      <th>Level</th>\n",
       "      <th>Name</th>\n",
       "      <th>Excitable</th>\n",
       "      <th>Skeptical</th>\n",
       "      <th>Cautious</th>\n",
       "      <th>Reserved</th>\n",
       "      <th>Leisurely</th>\n",
       "      <th>Bold</th>\n",
       "      <th>Mischievous</th>\n",
       "      <th>Colorful</th>\n",
       "      <th>Imaginative</th>\n",
       "      <th>Diligent</th>\n",
       "      <th>Dutiful</th>\n",
       "    </tr>\n",
       "  </thead>\n",
       "  <tbody>\n",
       "    <tr>\n",
       "      <th>0</th>\n",
       "      <td>N-1</td>\n",
       "      <td>Exec1</td>\n",
       "      <td>66</td>\n",
       "      <td>29</td>\n",
       "      <td>18</td>\n",
       "      <td>55</td>\n",
       "      <td>35</td>\n",
       "      <td>76</td>\n",
       "      <td>72</td>\n",
       "      <td>26</td>\n",
       "      <td>57</td>\n",
       "      <td>45</td>\n",
       "      <td>21</td>\n",
       "    </tr>\n",
       "    <tr>\n",
       "      <th>1</th>\n",
       "      <td>N-1</td>\n",
       "      <td>Exec2</td>\n",
       "      <td>84</td>\n",
       "      <td>96</td>\n",
       "      <td>62</td>\n",
       "      <td>40</td>\n",
       "      <td>89</td>\n",
       "      <td>28</td>\n",
       "      <td>11</td>\n",
       "      <td>44</td>\n",
       "      <td>81</td>\n",
       "      <td>67</td>\n",
       "      <td>18</td>\n",
       "    </tr>\n",
       "    <tr>\n",
       "      <th>2</th>\n",
       "      <td>N-1</td>\n",
       "      <td>Exec3</td>\n",
       "      <td>90</td>\n",
       "      <td>23</td>\n",
       "      <td>72</td>\n",
       "      <td>34</td>\n",
       "      <td>13</td>\n",
       "      <td>61</td>\n",
       "      <td>45</td>\n",
       "      <td>8</td>\n",
       "      <td>92</td>\n",
       "      <td>19</td>\n",
       "      <td>13</td>\n",
       "    </tr>\n",
       "    <tr>\n",
       "      <th>3</th>\n",
       "      <td>N-1</td>\n",
       "      <td>Exec4</td>\n",
       "      <td>71</td>\n",
       "      <td>88</td>\n",
       "      <td>98</td>\n",
       "      <td>30</td>\n",
       "      <td>97</td>\n",
       "      <td>42</td>\n",
       "      <td>67</td>\n",
       "      <td>6</td>\n",
       "      <td>42</td>\n",
       "      <td>1</td>\n",
       "      <td>9</td>\n",
       "    </tr>\n",
       "    <tr>\n",
       "      <th>4</th>\n",
       "      <td>N-1</td>\n",
       "      <td>Exec5</td>\n",
       "      <td>96</td>\n",
       "      <td>33</td>\n",
       "      <td>27</td>\n",
       "      <td>42</td>\n",
       "      <td>87</td>\n",
       "      <td>44</td>\n",
       "      <td>38</td>\n",
       "      <td>35</td>\n",
       "      <td>56</td>\n",
       "      <td>10</td>\n",
       "      <td>2</td>\n",
       "    </tr>\n",
       "  </tbody>\n",
       "</table>\n",
       "</div>"
      ],
      "text/plain": [
       "  Level   Name  Excitable  Skeptical  Cautious  Reserved  Leisurely  Bold  \\\n",
       "0   N-1  Exec1         66         29        18        55         35    76   \n",
       "1   N-1  Exec2         84         96        62        40         89    28   \n",
       "2   N-1  Exec3         90         23        72        34         13    61   \n",
       "3   N-1  Exec4         71         88        98        30         97    42   \n",
       "4   N-1  Exec5         96         33        27        42         87    44   \n",
       "\n",
       "   Mischievous  Colorful  Imaginative  Diligent  Dutiful  \n",
       "0           72        26           57        45       21  \n",
       "1           11        44           81        67       18  \n",
       "2           45         8           92        19       13  \n",
       "3           67         6           42         1        9  \n",
       "4           38        35           56        10        2  "
      ]
     },
     "execution_count": 4,
     "metadata": {},
     "output_type": "execute_result"
    }
   ],
   "source": [
    "# Load the Excel file\n",
    "file_path = \"Data Analysis Exercise -- Template.xlsx\"\n",
    "df = pd.read_excel(file_path, sheet_name=\"Data\")\n",
    "\n",
    "# Display the first few rows\n",
    "df.head()\n"
   ]
  },
  {
   "cell_type": "markdown",
   "id": "c036a320-b448-4e8e-b36f-3084364683ca",
   "metadata": {},
   "source": [
    "I read the Excel file and inspect the first few rows to understand the structure. The key columns are:\n",
    "\n",
    "Level (N-1 or N-2)\n",
    "\n",
    "Name (executive name)\n",
    "\n",
    "11 Hogan personality traits (each scored from 1 to 100)"
   ]
  },
  {
   "cell_type": "code",
   "execution_count": 8,
   "id": "028a291a-fc21-4987-bc12-653d6ffacafa",
   "metadata": {},
   "outputs": [],
   "source": [
    "# Split the dataset based on executive level\n",
    "df_n1 = df[df[\"Level\"] == \"N-1\"]\n",
    "df_n2 = df[df[\"Level\"] == \"N-2\"]\n"
   ]
  },
  {
   "cell_type": "markdown",
   "id": "87d896a6-1436-427e-851e-3ce5dbfd8cce",
   "metadata": {},
   "source": [
    "I separate executives into two groups:\n",
    "\n",
    "N-1: Direct reports to the CEO\n",
    "\n",
    "N-2: Reports of N-1s\n",
    "\n",
    "This will help us compute and compare scores for both groups."
   ]
  },
  {
   "cell_type": "code",
   "execution_count": 11,
   "id": "f4817a1b-d374-4cdd-b028-dcf53fb66b73",
   "metadata": {},
   "outputs": [
    {
     "data": {
      "text/plain": [
       "['Excitable',\n",
       " 'Skeptical',\n",
       " 'Cautious',\n",
       " 'Reserved',\n",
       " 'Leisurely',\n",
       " 'Bold',\n",
       " 'Mischievous',\n",
       " 'Colorful',\n",
       " 'Imaginative',\n",
       " 'Diligent',\n",
       " 'Dutiful']"
      ]
     },
     "execution_count": 11,
     "metadata": {},
     "output_type": "execute_result"
    }
   ],
   "source": [
    "# Extract trait columns (exclude Level and Name)\n",
    "trait_cols = [col for col in df.columns if col not in [\"Level\", \"Name\"]]\n",
    "trait_cols\n"
   ]
  },
  {
   "cell_type": "markdown",
   "id": "3bada15a-8b1b-4fb0-92bc-40b86f4e4398",
   "metadata": {},
   "source": [
    "I isolate the 11 HDS traits to use in calculations. These columns represent different risk areas when executives are under stress."
   ]
  },
  {
   "cell_type": "code",
   "execution_count": 15,
   "id": "34327a6a-2b90-415e-978e-656367ebf36f",
   "metadata": {},
   "outputs": [
    {
     "data": {
      "text/html": [
       "<div>\n",
       "<style scoped>\n",
       "    .dataframe tbody tr th:only-of-type {\n",
       "        vertical-align: middle;\n",
       "    }\n",
       "\n",
       "    .dataframe tbody tr th {\n",
       "        vertical-align: top;\n",
       "    }\n",
       "\n",
       "    .dataframe thead th {\n",
       "        text-align: right;\n",
       "    }\n",
       "</style>\n",
       "<table border=\"1\" class=\"dataframe\">\n",
       "  <thead>\n",
       "    <tr style=\"text-align: right;\">\n",
       "      <th></th>\n",
       "      <th>N-1 Avg Score</th>\n",
       "      <th>N-2 Avg Score</th>\n",
       "      <th>Difference (N1 - N2)</th>\n",
       "    </tr>\n",
       "  </thead>\n",
       "  <tbody>\n",
       "    <tr>\n",
       "      <th>Excitable</th>\n",
       "      <td>79.857143</td>\n",
       "      <td>51.000000</td>\n",
       "      <td>28.857143</td>\n",
       "    </tr>\n",
       "    <tr>\n",
       "      <th>Imaginative</th>\n",
       "      <td>70.285714</td>\n",
       "      <td>55.555556</td>\n",
       "      <td>14.730159</td>\n",
       "    </tr>\n",
       "    <tr>\n",
       "      <th>Leisurely</th>\n",
       "      <td>69.142857</td>\n",
       "      <td>50.888889</td>\n",
       "      <td>18.253968</td>\n",
       "    </tr>\n",
       "    <tr>\n",
       "      <th>Bold</th>\n",
       "      <td>62.428571</td>\n",
       "      <td>59.555556</td>\n",
       "      <td>2.873016</td>\n",
       "    </tr>\n",
       "    <tr>\n",
       "      <th>Skeptical</th>\n",
       "      <td>49.142857</td>\n",
       "      <td>60.000000</td>\n",
       "      <td>-10.857143</td>\n",
       "    </tr>\n",
       "    <tr>\n",
       "      <th>Cautious</th>\n",
       "      <td>48.142857</td>\n",
       "      <td>55.222222</td>\n",
       "      <td>-7.079365</td>\n",
       "    </tr>\n",
       "    <tr>\n",
       "      <th>Reserved</th>\n",
       "      <td>43.000000</td>\n",
       "      <td>47.888889</td>\n",
       "      <td>-4.888889</td>\n",
       "    </tr>\n",
       "    <tr>\n",
       "      <th>Mischievous</th>\n",
       "      <td>37.857143</td>\n",
       "      <td>39.444444</td>\n",
       "      <td>-1.587302</td>\n",
       "    </tr>\n",
       "    <tr>\n",
       "      <th>Diligent</th>\n",
       "      <td>30.142857</td>\n",
       "      <td>46.222222</td>\n",
       "      <td>-16.079365</td>\n",
       "    </tr>\n",
       "    <tr>\n",
       "      <th>Dutiful</th>\n",
       "      <td>27.000000</td>\n",
       "      <td>61.000000</td>\n",
       "      <td>-34.000000</td>\n",
       "    </tr>\n",
       "    <tr>\n",
       "      <th>Colorful</th>\n",
       "      <td>25.142857</td>\n",
       "      <td>45.333333</td>\n",
       "      <td>-20.190476</td>\n",
       "    </tr>\n",
       "  </tbody>\n",
       "</table>\n",
       "</div>"
      ],
      "text/plain": [
       "             N-1 Avg Score  N-2 Avg Score  Difference (N1 - N2)\n",
       "Excitable        79.857143      51.000000             28.857143\n",
       "Imaginative      70.285714      55.555556             14.730159\n",
       "Leisurely        69.142857      50.888889             18.253968\n",
       "Bold             62.428571      59.555556              2.873016\n",
       "Skeptical        49.142857      60.000000            -10.857143\n",
       "Cautious         48.142857      55.222222             -7.079365\n",
       "Reserved         43.000000      47.888889             -4.888889\n",
       "Mischievous      37.857143      39.444444             -1.587302\n",
       "Diligent         30.142857      46.222222            -16.079365\n",
       "Dutiful          27.000000      61.000000            -34.000000\n",
       "Colorful         25.142857      45.333333            -20.190476"
      ]
     },
     "execution_count": 15,
     "metadata": {},
     "output_type": "execute_result"
    }
   ],
   "source": [
    "# Calculate mean trait scores for each group\n",
    "n1_avg = df_n1[trait_cols].mean()\n",
    "n2_avg = df_n2[trait_cols].mean()\n",
    "\n",
    "# Combine into one DataFrame\n",
    "comparison = pd.DataFrame({\n",
    "    \"N-1 Avg Score\": n1_avg,\n",
    "    \"N-2 Avg Score\": n2_avg,\n",
    "    \"Difference (N1 - N2)\": n1_avg - n2_avg\n",
    "}).sort_values(by=\"N-1 Avg Score\", ascending=False)\n",
    "\n",
    "comparison\n"
   ]
  },
  {
   "cell_type": "markdown",
   "id": "fc9efd40-3558-49e8-9ce7-706e00a69678",
   "metadata": {},
   "source": [
    "I compute average trait scores for each group and create a comparison table. The difference column helps us understand which traits are more dominant in which group."
   ]
  },
  {
   "cell_type": "code",
   "execution_count": 29,
   "id": "39e18d9b-52cd-481d-a3e1-6a396c72269a",
   "metadata": {},
   "outputs": [
    {
     "data": {
      "image/png": "[encoded data removed]",
      "text/plain": [
       "<Figure size 800x500 with 1 Axes>"
      ]
     },
     "metadata": {},
     "output_type": "display_data"
    }
   ],
   "source": [
    "import warnings\n",
    "warnings.filterwarnings('ignore', category=FutureWarning)\n",
    "\n",
    "# Top 5 traits in N-1 team\n",
    "top5_n1 = n1_avg.sort_values(ascending=False).head(5)\n",
    "\n",
    "# Plotting\n",
    "plt.figure(figsize=(8, 5))\n",
    "sns.barplot(x=top5_n1.values, y=top5_n1.index, palette=\"Reds_r\")\n",
    "plt.title(\"Top 5 Risk Factors for N-1 Executives\", fontsize=14)\n",
    "plt.xlabel(\"Average Score\")\n",
    "plt.ylabel(\"Traits\")\n",
    "plt.tight_layout()\n",
    "plt.show()\n"
   ]
  },
  {
   "cell_type": "markdown",
   "id": "ff62ea2b-3c7f-4207-bd23-636e126972ed",
   "metadata": {},
   "source": [
    "This bar chart shows the traits where N-1 executives score highest. These are their biggest risk areas under stress"
   ]
  },
  {
   "cell_type": "code",
   "execution_count": 35,
   "id": "0e396fca-0fad-4ea8-9b64-5231ffe78499",
   "metadata": {},
   "outputs": [
    {
     "data": {
      "image/png": "[encoded data removed]",
      "text/plain": [
       "<Figure size 1000x600 with 1 Axes>"
      ]
     },
     "metadata": {},
     "output_type": "display_data"
    }
   ],
   "source": [
    "# Plot difference between N-1 and N-2\n",
    "plt.figure(figsize=(10, 6))\n",
    "sns.barplot(x=comparison[\"Difference (N1 - N2)\"], y=comparison.index, palette=\"coolwarm\")\n",
    "plt.axvline(0, color=\"black\", linestyle=\"--\")\n",
    "plt.title(\"Difference in Trait Scores: N-1 vs N-2\", fontsize=14)\n",
    "plt.xlabel(\"Score Difference (N-1 - N-2)\")\n",
    "plt.ylabel(\"Traits\")\n",
    "plt.tight_layout()\n",
    "plt.show()\n"
   ]
  },
  {
   "cell_type": "markdown",
   "id": "10b41a4f-95b2-4461-b6be-f23dd994262c",
   "metadata": {},
   "source": [
    "This plot shows how each trait differs between the two teams:\n",
    "\n",
    "Positive bars → N-1 scores higher (more at risk)\n",
    "\n",
    "Negative bars → N-2 scores higher (more at risk)\n",
    "\n",
    "This helps uncover how leadership styles and stress responses differ."
   ]
  },
  {
   "cell_type": "code",
   "execution_count": 42,
   "id": "74a2c657-6bc6-4379-9a70-9dab38c58ecd",
   "metadata": {},
   "outputs": [
    {
     "name": "stdout",
     "output_type": "stream",
     "text": [
      "🔺 Major Risk Traits for N-1:\n",
      "Excitable      79.857143\n",
      "Imaginative    70.285714\n",
      "Leisurely      69.142857\n",
      "Bold           62.428571\n",
      "Skeptical      49.142857\n",
      "dtype: float64 \n",
      "\n",
      "⚖️ Traits with Largest Differences Between N-1 and N-2: \n",
      "\n",
      "Excitable      28.857143\n",
      "Leisurely      18.253968\n",
      "Imaginative    14.730159\n",
      "Name: Difference (N1 - N2), dtype: float64 \n",
      "\n",
      "Dutiful    -34.000000\n",
      "Colorful   -20.190476\n",
      "Diligent   -16.079365\n",
      "Name: Difference (N1 - N2), dtype: float64\n"
     ]
    }
   ],
   "source": [
    "# Top risk traits for N-1\n",
    "print(\"🔺 Major Risk Traits for N-1:\")\n",
    "print(n1_avg.sort_values(ascending=False).head(5), \"\\n\")\n",
    "\n",
    "# Traits with biggest differences\n",
    "print(\"⚖️ Traits with Largest Differences Between N-1 and N-2:\", \"\\n\")\n",
    "print(comparison[\"Difference (N1 - N2)\"].sort_values(ascending=False).head(3), \"\\n\")\n",
    "print(comparison[\"Difference (N1 - N2)\"].sort_values().head(3))\n"
   ]
  },
  {
   "cell_type": "markdown",
   "id": "51ae37f1-f508-407f-81e6-6fba02557c82",
   "metadata": {},
   "source": [
    "1. What are the major risk factors for the N-1 team?\n",
    "\n",
    "Based on average HDS scores, the N-1 executives show high risk in the following derailers:\n",
    "\n",
    "Excitable (79.9): Prone to emotional volatility, frustration, and mood swings under stress.\n",
    "\n",
    "Imaginative (70.3): May become overly creative, eccentric, or detached from practical realities.\n",
    "\n",
    "Leisurely (69.1): Appear agreeable but may resist direction and become passive-aggressive.\n",
    "\n",
    "Bold (62.4): May exhibit overconfidence, arrogance, or disregard for feedback.\n",
    "\n",
    "🔎 Implication: The N-1 team is visionary and assertive but may struggle with emotional regulation and structured follow-through during high-pressure situations."
   ]
  },
  {
   "cell_type": "markdown",
   "id": "af1a24d3-068b-47c3-88ff-03305cc3faab",
   "metadata": {},
   "source": [
    "2. In what ways do the two teams differ significantly?\n",
    " \n",
    " Key Differences:\n",
    "| Trait         | N-1 Avg | N-2 Avg | Difference |\n",
    "| ------------- | ------- | ------- | ---------- |\n",
    "| **Excitable** | 79.9    | 51.0    | +28.9      |\n",
    "| **Leisurely** | 69.1    | 50.9    | +18.3      |\n",
    "| **Dutiful**   | 27.0    | 61.0    | −34.0      |\n",
    "| **Diligent**  | 30.1    | 46.2    | −16.1      |\n",
    "| **Skeptical** | 49.1    | 60.0    | −10.9      |\n"
   ]
  },
  {
   "cell_type": "markdown",
   "id": "dfaf468d-2302-427a-a448-21d66776b171",
   "metadata": {},
   "source": [
    "Interpretation:\n",
    "N-1 team is more emotionally reactive, imaginative, and likely to resist structure.\n",
    "\n",
    "N-2 team is more dutiful, diligent, and cautious—they value rules, accountability, and precision.\n",
    "\n",
    "Collaboration Potential:\n",
    "Strengths: N-1 offers bold ideas and innovation; N-2 brings stability and execution.\n",
    "\n",
    "Tensions: N-1 may see N-2 as rigid; N-2 may find N-1 inconsistent or unpredictable.\n",
    "\n",
    "Solution: Clear communication protocols and shared decision frameworks can bridge these style gaps."
   ]
  },
  {
   "cell_type": "markdown",
   "id": "8b342260-ca19-4c72-9a6d-a2e3f3332ec8",
   "metadata": {},
   "source": [
    "3. How is the N-2 team most similar? How is it most different?\n",
    "\n",
    "Most Similar Traits:\n",
    "| Trait       | Score Difference (N1 - N2) |\n",
    "| ----------- | -------------------------- |\n",
    "| Mischievous | −1.6                       |\n",
    "| Bold        | +2.9                       |\n",
    "\n",
    "\n",
    "Both groups share similar tendencies in being persuasive, risk-tolerant, and assertive, suggesting shared leadership behaviors like taking charge and challenging norms.\n"
   ]
  },
  {
   "cell_type": "markdown",
   "id": "81ef6872-ee75-4711-a277-1aaa6de897ea",
   "metadata": {},
   "source": [
    "Most Different Traits:\n",
    "\n",
    "| Trait         | Score Difference |\n",
    "| ------------- | ---------------- |\n",
    "| **Dutiful**   | −34.0            |\n",
    "| **Excitable** | +28.9            |\n",
    "| **Diligent**  | −16.1            |\n",
    "\n",
    "Implications:\n",
    "\n",
    "N-2 team is significantly more structured, compliant, and emotionally stable.\n",
    "\n",
    "May be better suited for roles requiring consistency, process, and reliability.\n",
    "\n",
    "Succession planning should account for training N-1s in emotional regulation and improving N-2's risk-taking and visioning.\n"
   ]
  },
  {
   "cell_type": "code",
   "execution_count": null,
   "id": "e8945347-24e2-481e-bb7f-cbb14abc8abd",
   "metadata": {},
   "outputs": [],
   "source": []
  }
 ],
 "metadata": {
  "kernelspec": {
   "display_name": "Python [conda env:base] *",
   "language": "python",
   "name": "conda-base-py"
  },
  "language_info": {
   "codemirror_mode": {
    "name": "ipython",
    "version": 3
   },
   "file_extension": ".py",
   "mimetype": "text/x-python",
   "name": "python",
   "nbconvert_exporter": "python",
   "pygments_lexer": "ipython3",
   "version": "3.12.7"
  }
 },
 "nbformat": 4,
 "nbformat_minor": 5
}
